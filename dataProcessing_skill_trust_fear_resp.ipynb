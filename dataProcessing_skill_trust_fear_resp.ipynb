{
 "cells": [
  {
   "cell_type": "markdown",
   "metadata": {},
   "source": [
    "File to create three summary csvs:  \n",
    "- skill level and trust  \n",
    "- skill level and responsibility  \n",
    "- skill level and fear  "
   ]
  },
  {
   "cell_type": "code",
   "execution_count": 1,
   "metadata": {
    "collapsed": true
   },
   "outputs": [],
   "source": [
    "import pandas as pd\n",
    "import numpy as np"
   ]
  },
  {
   "cell_type": "code",
   "execution_count": 2,
   "metadata": {
    "collapsed": true
   },
   "outputs": [],
   "source": [
    "# read in data\n",
    "df = pd.read_csv('data/surveyExport.csv', usecols = [5,7,8,9,10,11,12,13,14,15,16,17,18,21,22,23], encoding = \"ISO-8859-1\")\n",
    "columns=['country','skill','wifi_router','laptop','sm_phone','sm_tv','act_track','sm_hub','car','thermo','sm_appl','sm_lock','sm_light','fear','responsible','trust']\n",
    "df.columns=columns"
   ]
  },
  {
   "cell_type": "code",
   "execution_count": 3,
   "metadata": {
    "collapsed": true
   },
   "outputs": [],
   "source": [
    "# remove non-ascii chars\n",
    "\n",
    "for index, col in enumerate(df.columns.values):\n",
    "    df.iloc[:,index]=df.iloc[:,index].str.replace(r\"[^a-zA-Z0-9\\s]\",'')"
   ]
  },
  {
   "cell_type": "code",
   "execution_count": 4,
   "metadata": {
    "collapsed": true
   },
   "outputs": [],
   "source": [
    "# rename skill level\n",
    "\n",
    "textR=[(\"^Ultra Nerd.*\",\"ultra_nerd\"),(\"^Technically Savvy.*\",\"savvy\"),(\"^Average User.*\",\"avg\"),(\"^Luddite.*\",\"luddite\")]\n",
    "for index, item in enumerate(textR):\n",
    "    df.loc[:,'skill']=df.loc[:,'skill'].replace(textR[index][0],textR[index][1], regex=True)"
   ]
  },
  {
   "cell_type": "code",
   "execution_count": 5,
   "metadata": {
    "collapsed": true
   },
   "outputs": [],
   "source": [
    "# shorten answers for fear, trust, responsibility\n",
    "\n",
    "textR2=[('fear', '^The loss of privacy.*','privacy'),\\\n",
    "        ('fear', '^Well lose touch.*','lose_touch'),\\\n",
    "        ('fear', '^Other.*','other'),\\\n",
    "        ('fear', '^I have no fears.*','none'),\\\n",
    "        ('fear', '^Well be less safe.*','safety'),\\\n",
    "        ('trust', '^My friends and family.*','fr_fam'),\\\n",
    "        ('trust', '^The media.*','media'),\\\n",
    "        ('trust', '^Nonprofit organizations like Mozilla.*','non_profit'),\\\n",
    "        ('trust', '^I just dont know who.*','tr_dk'),\\\n",
    "        ('trust', '^The government.*','tr_government'),\\\n",
    "        ('trust', '^The makers.*','tr_makers'),\\\n",
    "        ('responsible', '^The makers of those.*','re_makers'),\\\n",
    "        ('responsible', '^Its up to me.*','me'),\\\n",
    "        ('responsible', '^I honestly dont know.*','re_dk'),\\\n",
    "        ('responsible', '^The government.*','re_govt')]\n",
    "\n",
    "for index, item in enumerate(textR2):\n",
    "    df.loc[:,textR2[index][0]]=df.loc[:,textR2[index][0]].replace(textR2[index][1],textR2[index][2], regex=True)"
   ]
  },
  {
   "cell_type": "code",
   "execution_count": 10,
   "metadata": {},
   "outputs": [],
   "source": [
    "# export to csv\n",
    "\n",
    "export=('responsible','trust','fear')\n",
    "\n",
    "for i in export:\n",
    "    (df.groupby(['skill',i]).size().unstack()).to_csv('data/skillLevel/skill_' + i + '.csv')"
   ]
  }
 ],
 "metadata": {
  "kernelspec": {
   "display_name": "Python 3",
   "language": "python",
   "name": "python3"
  },
  "language_info": {
   "codemirror_mode": {
    "name": "ipython",
    "version": 3
   },
   "file_extension": ".py",
   "mimetype": "text/x-python",
   "name": "python",
   "nbconvert_exporter": "python",
   "pygments_lexer": "ipython3",
   "version": "3.6.1"
  }
 },
 "nbformat": 4,
 "nbformat_minor": 2
}
