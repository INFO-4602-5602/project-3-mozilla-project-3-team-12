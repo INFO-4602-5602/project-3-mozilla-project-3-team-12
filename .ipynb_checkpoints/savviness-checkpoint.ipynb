{
 "cells": [
  {
   "cell_type": "code",
   "execution_count": 2,
   "metadata": {},
   "outputs": [],
   "source": [
    "import pandas as pd\n",
    "import numpy as np"
   ]
  },
  {
   "cell_type": "code",
   "execution_count": 3,
   "metadata": {},
   "outputs": [
    {
     "name": "stderr",
     "output_type": "stream",
     "text": [
      "/Users/joelmarquez/anaconda3/lib/python3.6/site-packages/IPython/core/interactiveshell.py:2728: DtypeWarning: Columns (24,25,26,27,28,29,30,31,32,33) have mixed types. Specify dtype option on import or set low_memory=False.\n",
      "  interactivity=interactivity, compiler=compiler, result=result)\n"
     ]
    }
   ],
   "source": [
    "df = pd.read_csv(\"data/raw_data.csv\", encoding = \"ISO-8859-1\")"
   ]
  },
  {
   "cell_type": "code",
   "execution_count": 4,
   "metadata": {},
   "outputs": [],
   "source": [
    "df[\"I consider myself:\"] = df[\"I consider myself:\"].map({\n",
    "    np.nan: 0,\n",
    "    \"Luddite:  Technology scares me! I only use it when I have to.\": 1,\n",
    "    \"Average User:   I know enough to get by.\": 2,\n",
    "    \"Technically Savvy:   I know my way around a computer pretty well. When anyone in my family needs technical help, I\\x89Ûªm the one they call.\": 3,\n",
    "    \"Ultra Nerd:  I build my own computers, run my own servers, code my own apps. I\\x89Ûªm basically Mr. Robot.\": 4\n",
    "})"
   ]
  },
  {
   "cell_type": "code",
   "execution_count": 5,
   "metadata": {},
   "outputs": [],
   "source": [
    "byCountry = splitData(\"Country\", df)"
   ]
  },
  {
   "cell_type": "code",
   "execution_count": 6,
   "metadata": {},
   "outputs": [],
   "source": [
    "techSavvinessByCountry = {}\n",
    "for country in byCountry.attrValues:\n",
    "    techSavvinessByCountry[country] = splitData(\"I consider myself:\", byCountry.getAttr(country))\n",
    "del techSavvinessByCountry[np.nan]"
   ]
  },
  {
   "cell_type": "code",
   "execution_count": 7,
   "metadata": {},
   "outputs": [],
   "source": [
    "savvinessByCountryCount = {}\n",
    "for country in techSavvinessByCountry:\n",
    "    savvinessByCountryCount[country] = {}\n",
    "    for attr in techSavvinessByCountry[country].attrValues:\n",
    "            savvinessByCountryCount[country][attr] = techSavvinessByCountry[country].getAttr(attr).shape[0]"
   ]
  },
  {
   "cell_type": "code",
   "execution_count": 8,
   "metadata": {},
   "outputs": [],
   "source": [
    "cf = pd.DataFrame(savvinessByCountryCount)\n",
    "cf = cf.drop(cf.index[[0]]).T"
   ]
  },
  {
   "cell_type": "code",
   "execution_count": 9,
   "metadata": {},
   "outputs": [],
   "source": [
    "totals = cf.sum(axis=1)\n",
    "adjusted = cf.mul([1, 2, 3, 4], axis=1).sum(axis=1)\n",
    "cf[\"raw_total\"] = totals\n",
    "cf[\"adjusted_total\"] = adjusted\n",
    "cf[\"avg\"] = adjusted/totals\n",
    "cf[\"country\"] = cf.index"
   ]
  },
  {
   "cell_type": "code",
   "execution_count": 13,
   "metadata": {},
   "outputs": [],
   "source": [
    "cf.to_csv('data/tech_savviness/allcountries.csv', index=False)"
   ]
  },
  {
   "cell_type": "code",
   "execution_count": 11,
   "metadata": {},
   "outputs": [],
   "source": [
    "bf = cf[['country', 'avg']].copy()"
   ]
  },
  {
   "cell_type": "code",
   "execution_count": 14,
   "metadata": {},
   "outputs": [],
   "source": [
    "bf.to_csv('data/tech_savviness/avg_savviness.csv', index=False)"
   ]
  },
  {
   "cell_type": "code",
   "execution_count": 1,
   "metadata": {},
   "outputs": [],
   "source": [
    "class splitData(object):\n",
    "    '''\n",
    "    Params: attribute name and a dataframe \n",
    "    Variables:\n",
    "        @attrValues: All possible attribute values based on given attribute\n",
    "        @splitDict: Dictionary with an entry containing each attrValue and its corresponding dataframe\n",
    "    '''\n",
    "    def __init__(self, attr, df):\n",
    "        self.df = df\n",
    "        self.attr = attr\n",
    "        self.attrValues = self.setAttrValues()\n",
    "        self.attrDict = self.splitDataByAttrToDict()\n",
    "    def setAttrValues(self):\n",
    "        values = set()\n",
    "        for val in self.df[self.attr]:\n",
    "            values.add(val)\n",
    "        return values\n",
    "    def splitDataByAttrToDict(self):\n",
    "        splitDict = {}\n",
    "        for val in self.attrValues:\n",
    "            splitDict[val] = self.df.loc[self.df[self.attr] == val]\n",
    "        return splitDict\n",
    "    def getAttr(self, attrName):\n",
    "        if attrName not in self.attrDict:\n",
    "            print(\"Attribute not found!\")\n",
    "            return\n",
    "        return self.attrDict[attrName]\n",
    "    def getAttrs(self):\n",
    "        return self.attrDict\n",
    "    def toCsv(self, loc):\n",
    "        for val in self.attrValues:\n",
    "            self.attrDict[val].to_csv(loc + str(val) + '.csv', index=False)"
   ]
  },
  {
   "cell_type": "code",
   "execution_count": null,
   "metadata": {},
   "outputs": [],
   "source": []
  }
 ],
 "metadata": {
  "kernelspec": {
   "display_name": "Python 3",
   "language": "python",
   "name": "python3"
  },
  "language_info": {
   "codemirror_mode": {
    "name": "ipython",
    "version": 3
   },
   "file_extension": ".py",
   "mimetype": "text/x-python",
   "name": "python",
   "nbconvert_exporter": "python",
   "pygments_lexer": "ipython3",
   "version": "3.6.3"
  }
 },
 "nbformat": 4,
 "nbformat_minor": 2
}
