{
 "cells": [
  {
   "cell_type": "code",
   "execution_count": 2,
   "metadata": {},
   "outputs": [],
   "source": [
    "import pandas as pd\n",
    "import numpy as np"
   ]
  },
  {
   "cell_type": "code",
   "execution_count": 2,
   "metadata": {},
   "outputs": [
    {
     "name": "stderr",
     "output_type": "stream",
     "text": [
      "/Users/joelmarquez/anaconda3/lib/python3.6/site-packages/IPython/core/interactiveshell.py:2728: DtypeWarning: Columns (24,25,26,27,28,29,30,31,32,33) have mixed types. Specify dtype option on import or set low_memory=False.\n",
      "  interactivity=interactivity, compiler=compiler, result=result)\n"
     ]
    }
   ],
   "source": [
    "df = pd.read_csv(\"data/raw_data.csv\", encoding = \"ISO-8859-1\")"
   ]
  },
  {
   "cell_type": "code",
   "execution_count": 33,
   "metadata": {},
   "outputs": [],
   "source": [
    "byCountry = splitData(\"Country\", df)"
   ]
  },
  {
   "cell_type": "code",
   "execution_count": 54,
   "metadata": {},
   "outputs": [],
   "source": [
    "techSavvinessByCountry = {}\n",
    "for country in byCountry.attrValues:\n",
    "    techSavvinessByCountry[country] = splitData(\"I consider myself:\", byCountry.getAttr(country))"
   ]
  },
  {
   "cell_type": "code",
   "execution_count": 113,
   "metadata": {},
   "outputs": [],
   "source": [
    "savvinessByCountryCount = {}\n",
    "for country in techSavvinessByCountry:\n",
    "    savvinessByCountryCount[country] = {}\n",
    "    for attr in techSavvinessByCountry[country].attrValues:\n",
    "            savvinessByCountryCount[country][attr] = techSavvinessByCountry[country].getAttr(attr).shape[0]"
   ]
  },
  {
   "cell_type": "code",
   "execution_count": 149,
   "metadata": {},
   "outputs": [],
   "source": [
    "cf = pd.DataFrame(savvinessByCountryCount)\n",
    "cf = cf.dropna(axis=1,how='all').drop(cf.index[[0]]).T"
   ]
  },
  {
   "cell_type": "code",
   "execution_count": 1,
   "metadata": {},
   "outputs": [
    {
     "ename": "NameError",
     "evalue": "name 'cf' is not defined",
     "output_type": "error",
     "traceback": [
      "\u001b[0;31m---------------------------------------------------------------------------\u001b[0m",
      "\u001b[0;31mNameError\u001b[0m                                 Traceback (most recent call last)",
      "\u001b[0;32m<ipython-input-1-032b5a49a844>\u001b[0m in \u001b[0;36m<module>\u001b[0;34m()\u001b[0m\n\u001b[0;32m----> 1\u001b[0;31m \u001b[0mcf\u001b[0m\u001b[0;34m\u001b[0m\u001b[0m\n\u001b[0m",
      "\u001b[0;31mNameError\u001b[0m: name 'cf' is not defined"
     ]
    }
   ],
   "source": [
    "cf"
   ]
  },
  {
   "cell_type": "code",
   "execution_count": 152,
   "metadata": {},
   "outputs": [],
   "source": [
    "cf.to_csv('data/tech_savviness/allcountries.csv')"
   ]
  },
  {
   "cell_type": "code",
   "execution_count": 5,
   "metadata": {},
   "outputs": [],
   "source": [
    "class splitData(object):\n",
    "    '''\n",
    "    Params: attribute name and a dataframe \n",
    "    Variables:\n",
    "        @attrValues: All possible attribute values based on given attribute\n",
    "        @splitDict: Dictionary with an entry containing each attrValue and its corresponding dataframe\n",
    "    '''\n",
    "    def __init__(self, attr, df):\n",
    "        self.df = df\n",
    "        self.attr = attr\n",
    "        self.attrValues = self.setAttrValues()\n",
    "        self.attrDict = self.splitDataByAttrToDict()\n",
    "    def setAttrValues(self):\n",
    "        values = set()\n",
    "        for val in self.df[self.attr]:\n",
    "            values.add(val)\n",
    "        return values\n",
    "    def splitDataByAttrToDict(self):\n",
    "        splitDict = {}\n",
    "        for val in self.attrValues:\n",
    "            splitDict[val] = self.df.loc[self.df[self.attr] == val]\n",
    "        return splitDict\n",
    "    def getAttr(self, attrName):\n",
    "        if attrName not in self.attrDict:\n",
    "            print(\"Attribute not found!\")\n",
    "            return\n",
    "        return self.attrDict[attrName]\n",
    "    def getAttrs(self):\n",
    "        return self.attrDict\n",
    "    def toCsv(self, loc):\n",
    "        for val in self.attrValues:\n",
    "            self.attrDict[val].to_csv(loc + str(val) + '.csv', index=False)"
   ]
  },
  {
   "cell_type": "code",
   "execution_count": null,
   "metadata": {},
   "outputs": [],
   "source": []
  }
 ],
 "metadata": {
  "kernelspec": {
   "display_name": "Python 3",
   "language": "python",
   "name": "python3"
  },
  "language_info": {
   "codemirror_mode": {
    "name": "ipython",
    "version": 3
   },
   "file_extension": ".py",
   "mimetype": "text/x-python",
   "name": "python",
   "nbconvert_exporter": "python",
   "pygments_lexer": "ipython3",
   "version": "3.6.3"
  }
 },
 "nbformat": 4,
 "nbformat_minor": 2
}
