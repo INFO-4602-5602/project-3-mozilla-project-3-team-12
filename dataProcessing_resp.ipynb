{
 "cells": [
  {
   "cell_type": "markdown",
   "metadata": {},
   "source": [
    "File to create three summary csvs:  \n",
    "- skill level and trust  \n",
    "- skill level and responsibility  \n",
    "- skill level and fear  "
   ]
  },
  {
   "cell_type": "code",
   "execution_count": 1,
   "metadata": {
    "collapsed": true
   },
   "outputs": [],
   "source": [
    "import pandas as pd\n",
    "import numpy as np"
   ]
  },
  {
   "cell_type": "code",
   "execution_count": 4,
   "metadata": {},
   "outputs": [],
   "source": [
    "# read in data\n",
    "df = pd.read_csv('my_mess/data/surveyExport.csv', usecols = [7,22], encoding = \"ISO-8859-1\")\n",
    "columns=['skill','responsible']\n",
    "df.columns=columns"
   ]
  },
  {
   "cell_type": "code",
   "execution_count": 5,
   "metadata": {
    "collapsed": true
   },
   "outputs": [],
   "source": [
    "# remove non-ascii chars\n",
    "\n",
    "for index, col in enumerate(df.columns.values):\n",
    "    df.iloc[:,index]=df.iloc[:,index].str.replace(r\"[^a-zA-Z0-9\\s]\",'')"
   ]
  },
  {
   "cell_type": "code",
   "execution_count": 6,
   "metadata": {
    "collapsed": true
   },
   "outputs": [],
   "source": [
    "# rename skill level\n",
    "\n",
    "textR=[(\"^Ultra Nerd.*\",\"ultra_nerd\"),(\"^Technically Savvy.*\",\"savvy\"),(\"^Average User.*\",\"avg\"),(\"^Luddite.*\",\"luddite\")]\n",
    "for index, item in enumerate(textR):\n",
    "    df.loc[:,'skill']=df.loc[:,'skill'].replace(textR[index][0],textR[index][1], regex=True)"
   ]
  },
  {
   "cell_type": "code",
   "execution_count": 7,
   "metadata": {
    "collapsed": true
   },
   "outputs": [],
   "source": [
    "textR2=[('responsible', '^The makers of those.*','re_makers'),\\\n",
    "        ('responsible', '^Its up to me.*','me'),\\\n",
    "        ('responsible', '^I honestly dont know.*','re_dk'),\\\n",
    "        ('responsible', '^The government.*','re_govt')]\n",
    "\n",
    "for index, item in enumerate(textR2):\n",
    "    df.loc[:,textR2[index][0]]=df.loc[:,textR2[index][0]].replace(textR2[index][1],textR2[index][2], regex=True)"
   ]
  },
  {
   "cell_type": "code",
   "execution_count": 8,
   "metadata": {
    "collapsed": true
   },
   "outputs": [],
   "source": [
    "df2=df.groupby(['skill','responsible']).size()"
   ]
  },
  {
   "cell_type": "code",
   "execution_count": 9,
   "metadata": {},
   "outputs": [
    {
     "data": {
      "text/plain": [
       "skill       responsible\n",
       "avg         me             24392\n",
       "            re_dk          11101\n",
       "            re_govt        16236\n",
       "            re_makers      26048\n",
       "luddite     me              1557\n",
       "            re_dk           1879\n",
       "            re_govt         1666\n",
       "            re_makers       1681\n",
       "savvy       me             27279\n",
       "            re_dk           5277\n",
       "            re_govt        14244\n",
       "            re_makers      25217\n",
       "ultra_nerd  me              7140\n",
       "            re_dk           1208\n",
       "            re_govt         3624\n",
       "            re_makers       6684\n",
       "dtype: int64"
      ]
     },
     "execution_count": 9,
     "metadata": {},
     "output_type": "execute_result"
    }
   ],
   "source": [
    "df2"
   ]
  },
  {
   "cell_type": "code",
   "execution_count": 10,
   "metadata": {
    "collapsed": true
   },
   "outputs": [],
   "source": [
    "df2.to_csv('data/responsible.csv')"
   ]
  },
  {
   "cell_type": "code",
   "execution_count": null,
   "metadata": {
    "collapsed": true
   },
   "outputs": [],
   "source": []
  }
 ],
 "metadata": {
  "kernelspec": {
   "display_name": "Python 3",
   "language": "python",
   "name": "python3"
  },
  "language_info": {
   "codemirror_mode": {
    "name": "ipython",
    "version": 3
   },
   "file_extension": ".py",
   "mimetype": "text/x-python",
   "name": "python",
   "nbconvert_exporter": "python",
   "pygments_lexer": "ipython3",
   "version": "3.6.1"
  }
 },
 "nbformat": 4,
 "nbformat_minor": 2
}
