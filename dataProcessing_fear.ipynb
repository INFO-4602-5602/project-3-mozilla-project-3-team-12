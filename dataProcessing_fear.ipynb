{
 "cells": [
  {
   "cell_type": "markdown",
   "metadata": {},
   "source": [
    "File to create three summary csvs:  \n",
    "- skill level and trust  \n",
    "- skill level and responsibility  \n",
    "- skill level and fear  "
   ]
  },
  {
   "cell_type": "code",
   "execution_count": 12,
   "metadata": {
    "collapsed": true
   },
   "outputs": [],
   "source": [
    "import pandas as pd\n",
    "import numpy as np"
   ]
  },
  {
   "cell_type": "code",
   "execution_count": 13,
   "metadata": {
    "collapsed": true
   },
   "outputs": [],
   "source": [
    "# read in data\n",
    "df = pd.read_csv('../data/surveyExport.csv', usecols = [7,21], encoding = \"ISO-8859-1\")\n",
    "columns=['skill','fear']\n",
    "df.columns=columns"
   ]
  },
  {
   "cell_type": "code",
   "execution_count": 14,
   "metadata": {
    "collapsed": true
   },
   "outputs": [],
   "source": [
    "# remove non-ascii chars\n",
    "\n",
    "for index, col in enumerate(df.columns.values):\n",
    "    df.iloc[:,index]=df.iloc[:,index].str.replace(r\"[^a-zA-Z0-9\\s]\",'')"
   ]
  },
  {
   "cell_type": "code",
   "execution_count": 15,
   "metadata": {
    "collapsed": true
   },
   "outputs": [],
   "source": [
    "# rename skill level\n",
    "\n",
    "textR=[(\"^Ultra Nerd.*\",\"ultra_nerd\"),(\"^Technically Savvy.*\",\"savvy\"),(\"^Average User.*\",\"avg\"),(\"^Luddite.*\",\"luddite\")]\n",
    "for index, item in enumerate(textR):\n",
    "    df.loc[:,'skill']=df.loc[:,'skill'].replace(textR[index][0],textR[index][1], regex=True)"
   ]
  },
  {
   "cell_type": "code",
   "execution_count": 16,
   "metadata": {
    "collapsed": true
   },
   "outputs": [],
   "source": [
    "textR2=[('fear', '^The loss of privacy.*','privacy'),\\\n",
    "        ('fear', '^Well lose touch.*','lose_touch'),\\\n",
    "        ('fear', '^Other.*','other'),\\\n",
    "        ('fear', '^I have no fears.*','none'),\\\n",
    "        ('fear', '^Well be less safe.*','safety')]\n",
    "\n",
    "for index, item in enumerate(textR2):\n",
    "    df.loc[:,textR2[index][0]]=df.loc[:,textR2[index][0]].replace(textR2[index][1],textR2[index][2], regex=True)"
   ]
  },
  {
   "cell_type": "code",
   "execution_count": 17,
   "metadata": {
    "collapsed": true
   },
   "outputs": [],
   "source": [
    "df2=df.groupby(['skill','fear']).size()"
   ]
  },
  {
   "cell_type": "code",
   "execution_count": 18,
   "metadata": {},
   "outputs": [
    {
     "data": {
      "text/plain": [
       "skill       fear      \n",
       "avg         lose_touch    22094\n",
       "            none           5536\n",
       "            other          6657\n",
       "            privacy       32229\n",
       "            safety        11827\n",
       "luddite     lose_touch     2275\n",
       "            none            413\n",
       "            other           867\n",
       "            privacy        2343\n",
       "            safety          979\n",
       "savvy       lose_touch    15533\n",
       "            none           5274\n",
       "            other          5982\n",
       "            privacy       35132\n",
       "            safety        10594\n",
       "ultra_nerd  lose_touch     2551\n",
       "            none           1602\n",
       "            other          1833\n",
       "            privacy       10205\n",
       "            safety         2631\n",
       "dtype: int64"
      ]
     },
     "execution_count": 18,
     "metadata": {},
     "output_type": "execute_result"
    }
   ],
   "source": [
    "df2"
   ]
  },
  {
   "cell_type": "code",
   "execution_count": 19,
   "metadata": {},
   "outputs": [],
   "source": [
    "df2.to_csv('data/bubble/bubble.csv')"
   ]
  },
  {
   "cell_type": "code",
   "execution_count": null,
   "metadata": {
    "collapsed": true
   },
   "outputs": [],
   "source": []
  }
 ],
 "metadata": {
  "kernelspec": {
   "display_name": "Python 3",
   "language": "python",
   "name": "python3"
  },
  "language_info": {
   "codemirror_mode": {
    "name": "ipython",
    "version": 3
   },
   "file_extension": ".py",
   "mimetype": "text/x-python",
   "name": "python",
   "nbconvert_exporter": "python",
   "pygments_lexer": "ipython3",
   "version": "3.6.1"
  }
 },
 "nbformat": 4,
 "nbformat_minor": 2
}
